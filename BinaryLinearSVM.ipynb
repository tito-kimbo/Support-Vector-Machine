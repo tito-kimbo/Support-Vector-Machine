{
 "cells": [
  {
   "cell_type": "code",
   "execution_count": 4,
   "metadata": {},
   "outputs": [],
   "source": [
    "import numpy as np\n",
    "from cvxopt import matrix\n",
    "import cvxopt.solvers as solvers\n",
    "\n",
    "\"\"\"Computamos los pesos del hiperplano\"\"\"\n",
    "def compute_w(multipliers,X,y):\n",
    "    return sum(multipliers[i] * y[i] * X[i] for i in range(len(y)))\n",
    "\n",
    "\"\"\"Computamos el término independiente\"\"\"\n",
    "def compute_b(w,X,y):\n",
    "    return sum(y[i] - np.dot(w,X[i]) for i in range(len(X)))/len(X)\n",
    "    \n",
    "\"\"\"Clase representando el funcionamiento de una SVM lineal\"\"\"\n",
    "class BinaryLinearSVM:\n",
    "\n",
    "    def __init__(self):\n",
    "        self.weights = []\n",
    "        self.b = 0\n",
    "        self.trained = False\n",
    "        self.accuracy = -1 #Desconocida\n",
    "    \n",
    "    def fit(self, train_data, train_labels):\n",
    "        #Matriz de Gram\n",
    "        m = train_data.shape[0]\n",
    "        K = np.array([np.dot(train_data[i], train_data[j])\n",
    "                      for i in range(m)\n",
    "                      for j in range(m)]).reshape((m,m))\n",
    "        \n",
    "        aux = np.outer(train_labels,train_labels)*K\n",
    "        P = matrix(aux, aux.shape, 'd')\n",
    "        q = matrix(-1 * np.ones(m))\n",
    "        #Restricciones de igualdad\n",
    "        A = matrix(train_labels, (1,m), 'd')\n",
    "        b = matrix(0.0)\n",
    "        #Restricciones de desigualdad\n",
    "        G = matrix(np.diag(-1*np.ones(m)))\n",
    "        h = matrix(np.zeros(m))\n",
    "        #Resolver el problema\n",
    "        solvers.options['show_progress'] = False\n",
    "        solution = solvers.qp(P,q,G,h,A,b)\n",
    "        #Multiplicadores de Lagrange\n",
    "        multipliers = np.ravel(solution['x'])\n",
    "        #Identificamos los vectores de soporte (aquellos con multiplicador positivo) \n",
    "        positive_multiplier = multipliers>1e-7\n",
    "        sv_multipliers = multipliers[positive_multiplier]\n",
    "        \n",
    "        support_vectors = train_data[positive_multiplier]\n",
    "        support_vector_labels = train_labels[positive_multiplier]\n",
    "        #Computamos w\n",
    "        self.weights = compute_w(multipliers, train_data, train_labels)\n",
    "        #Computamos el término independiente b  \n",
    "        self.b = compute_b(self.weights,support_vectors, support_vector_labels)\n",
    "        \n",
    "    def predict(self, x):\n",
    "        #Computamos el resultado de la operación wx+b y determinamos la posición\n",
    "        #relativa del punto respecto al hiperplano\n",
    "        value = np.dot(self.weights,x)+self.b\n",
    "        if value > 0:\n",
    "            return 1\n",
    "        else:\n",
    "            return -1\n",
    "        \n",
    "    def test(self, test_data, test_labels):\n",
    "        #Probamos las predicciones y devolvemos la precisión\n",
    "        results = [self.predict(test_data[i]) for i in range(len(test_data))]\n",
    "        count = sum(1 for i in range(len(test_data)) if test_labels[i]==results[i])\n",
    "        self.accuracy = 100*(count/len(test_data))"
   ]
  },
  {
   "cell_type": "code",
   "execution_count": 5,
   "metadata": {},
   "outputs": [
    {
     "name": "stdout",
     "output_type": "stream",
     "text": [
      "Pesos:  [-1.78443811e-08  2.00000007e+00]\n",
      "Termino indep:  1.0000000059516643\n"
     ]
    }
   ],
   "source": [
    "svm = BinaryLinearSVM()\n",
    "trainingData = np.array([[-1,1],[1,1],[-1,-1],[1,-1], [1,0], [-7,0]])\n",
    "trainingLabels = np.array([1,1,-1,-1, 1, 1])\n",
    "svm.fit(trainingData, trainingLabels)\n",
    "print(\"Pesos: \", svm.weights)\n",
    "print(\"Termino indep: \", svm.b)"
   ]
  },
  {
   "cell_type": "code",
   "execution_count": 6,
   "metadata": {},
   "outputs": [
    {
     "name": "stdout",
     "output_type": "stream",
     "text": [
      "Case 1:  1\n",
      "Case 2:  1\n",
      "Case 3:  -1\n"
     ]
    }
   ],
   "source": [
    "print(\"Case 1: \", svm.predict([7,24]))\n",
    "print(\"Case 2: \", svm.predict([3,2]))\n",
    "print(\"Case 3: \", svm.predict([29,-250]))"
   ]
  },
  {
   "cell_type": "code",
   "execution_count": 7,
   "metadata": {},
   "outputs": [
    {
     "data": {
      "text/latex": [
       "Hagamos una prueba con los siguientes datos\n",
       "\n",
       "$$X = \\{(1,0), (10,10), (-5,-5), (3,-1), (34, -5), (25, 2), (-17, -5), (7, 6) \\}$$\n",
       "\n",
       "$$Y = \\{1, 1, -1, -1, -1, 1, -1, 1 \\}$$"
      ],
      "text/plain": [
       "<IPython.core.display.Latex object>"
      ]
     },
     "metadata": {},
     "output_type": "display_data"
    }
   ],
   "source": [
    "%%latex\n",
    "Hagamos una prueba con los siguientes datos\n",
    "\n",
    "$$X = \\{(1,0), (10,10), (-5,-5), (3,-1), (34, -5), (25, 2), (-17, -5), (7, 6) \\}$$\n",
    "\n",
    "$$Y = \\{1, 1, -1, -1, -1, 1, -1, 1 \\}$$"
   ]
  },
  {
   "cell_type": "code",
   "execution_count": 8,
   "metadata": {},
   "outputs": [
    {
     "name": "stdout",
     "output_type": "stream",
     "text": [
      "Accuracy:  100.0 %\n"
     ]
    }
   ],
   "source": [
    "X = np.array([[1,0],[10,10],[-5,-5],[3,-1], [34, -5], [25,2], [-17,-5], [7,6]])\n",
    "Y = np.array([1,1,-1,-1, -1, 1, -1, 1])\n",
    "svm.test(X,Y)\n",
    "print(\"Accuracy: \", svm.accuracy, \"%\")"
   ]
  },
  {
   "cell_type": "code",
   "execution_count": 9,
   "metadata": {},
   "outputs": [],
   "source": [
    "%matplotlib inline\n",
    "import matplotlib.pyplot as plt\n",
    "plt.style.use('seaborn-whitegrid')"
   ]
  },
  {
   "cell_type": "code",
   "execution_count": 10,
   "metadata": {},
   "outputs": [],
   "source": [
    "def getColor(index, labels):\n",
    "    if labels[index] == 1:\n",
    "        return 'b'\n",
    "    else:\n",
    "        return 'r'"
   ]
  },
  {
   "cell_type": "code",
   "execution_count": 11,
   "metadata": {},
   "outputs": [
    {
     "data": {
      "text/plain": [
       "<matplotlib.contour.QuadContourSet at 0x2337516f2e8>"
      ]
     },
     "execution_count": 11,
     "metadata": {},
     "output_type": "execute_result"
    },
    {
     "data": {
      "image/png": "[encoded data removed]",
      "text/plain": [
       "<Figure size 432x288 with 1 Axes>"
      ]
     },
     "metadata": {},
     "output_type": "display_data"
    }
   ],
   "source": [
    "#Datos originales\n",
    "x = np.linspace(-8, 2, 100)\n",
    "y = np.linspace(-2, 2, 100)\n",
    "xAux, yAux = np.meshgrid(x,y)\n",
    "F = xAux*svm.weights[0]+yAux*svm.weights[1]+svm.b\n",
    "\n",
    "c1 = [trainingData[i][0] for i in range(len(trainingData))]\n",
    "c2 = [trainingData[i][1] for i in range(len(trainingData))]\n",
    "color = [getColor(i,trainingLabels) for i in range(len(trainingData))]\n",
    "plt.scatter(c1,c2, c=color)\n",
    "plt.contour(xAux,yAux,F, [0], colors='g')"
   ]
  },
  {
   "cell_type": "code",
   "execution_count": 12,
   "metadata": {},
   "outputs": [
    {
     "data": {
      "text/plain": [
       "<matplotlib.contour.QuadContourSet at 0x23377230588>"
      ]
     },
     "execution_count": 12,
     "metadata": {},
     "output_type": "execute_result"
    },
    {
     "data": {
      "image/png": "[encoded data removed]",
      "text/plain": [
       "<Figure size 432x288 with 1 Axes>"
      ]
     },
     "metadata": {},
     "output_type": "display_data"
    }
   ],
   "source": [
    "#Datos de prueba\n",
    "x = np.linspace(-20, 40, 100)\n",
    "y = np.linspace(-6, 11, 100)\n",
    "xAux, yAux = np.meshgrid(x,y)\n",
    "F = xAux*svm.weights[0]+yAux*svm.weights[1]+svm.b\n",
    "\n",
    "c1 = [X[i][0] for i in range(len(X))]\n",
    "c2 = [X[i][1] for i in range(len(X))]\n",
    "color = [getColor(i,Y) for i in range(len(X))]\n",
    "plt.scatter(c1 , c2, c=color)\n",
    "plt.contour(xAux,yAux,F,[0], colors='g')"
   ]
  },
  {
   "cell_type": "code",
   "execution_count": 13,
   "metadata": {},
   "outputs": [
    {
     "data": {
      "text/plain": [
       "<matplotlib.collections.PathCollection at 0x233772b7c18>"
      ]
     },
     "execution_count": 13,
     "metadata": {},
     "output_type": "execute_result"
    },
    {
     "data": {
      "image/png": "[encoded data removed]",
      "text/plain": [
       "<Figure size 432x288 with 1 Axes>"
      ]
     },
     "metadata": {},
     "output_type": "display_data"
    }
   ],
   "source": [
    "#Otro set de entrenamiento\n",
    "X = np.array([[7, 3],[-2,-1],[7, 7],[11,-1],[17, 2],[21,6]])\n",
    "Y = np.array([1,1,1,-1,-1,-1])\n",
    "\n",
    "c1 = [X[i][0] for i in range(len(X))]\n",
    "c2 = [X[i][1] for i in range(len(X))]\n",
    "color = [getColor(i,Y) for i in range(len(X))]\n",
    "plt.scatter(c1 , c2, c=color)"
   ]
  },
  {
   "cell_type": "code",
   "execution_count": 14,
   "metadata": {
    "scrolled": true
   },
   "outputs": [
    {
     "data": {
      "text/plain": [
       "<matplotlib.contour.QuadContourSet at 0x233772ec9b0>"
      ]
     },
     "execution_count": 14,
     "metadata": {},
     "output_type": "execute_result"
    },
    {
     "data": {
      "image/png": "[encoded data removed]",
      "text/plain": [
       "<Figure size 432x288 with 1 Axes>"
      ]
     },
     "metadata": {},
     "output_type": "display_data"
    }
   ],
   "source": [
    "svm.fit(X,Y)\n",
    "x = np.linspace(-20, 40, 100)\n",
    "y = np.linspace(-6, 11, 100)\n",
    "xAux, yAux = np.meshgrid(x,y)\n",
    "F = xAux*svm.weights[0]+yAux*svm.weights[1]+svm.b\n",
    "plt.scatter(c1 , c2, c=color)\n",
    "plt.contour(xAux,yAux,F,[0], colors='g')"
   ]
  },
  {
   "cell_type": "code",
   "execution_count": 16,
   "metadata": {},
   "outputs": [
    {
     "data": {
      "text/plain": [
       "<matplotlib.contour.QuadContourSet at 0x233777e3278>"
      ]
     },
     "execution_count": 16,
     "metadata": {},
     "output_type": "execute_result"
    },
    {
     "data": {
      "image/png": "[encoded data removed]",
      "text/plain": [
       "<Figure size 432x288 with 1 Axes>"
      ]
     },
     "metadata": {},
     "output_type": "display_data"
    }
   ],
   "source": [
    "X = np.array([[-10,2],[-15,-2],[-5,8],[-12,10],[7, 3],[-2,-1],[7, 7],[11,-1],[17, 2],[21,6],[30,-4],[21,-2],[37,8]])\n",
    "Y = np.array([1,1,1,1,1,1,1,-1,-1,-1,-1,-1,-1])\n",
    "c1 = [X[i][0] for i in range(len(X))]\n",
    "c2 = [X[i][1] for i in range(len(X))]\n",
    "color = [getColor(i,Y) for i in range(len(X))]\n",
    "\n",
    "svm.fit(X,Y)\n",
    "x = np.linspace(-20, 40, 100)\n",
    "y = np.linspace(-6, 11, 100)\n",
    "xAux, yAux = np.meshgrid(x,y)\n",
    "F = xAux*svm.weights[0]+yAux*svm.weights[1]+svm.b\n",
    "plt.scatter(c1 , c2, c=color)\n",
    "plt.contour(xAux,yAux,F,[0], colors='g')"
   ]
  },
  {
   "cell_type": "code",
   "execution_count": null,
   "metadata": {},
   "outputs": [],
   "source": []
  }
 ],
 "metadata": {
  "kernelspec": {
   "display_name": "Python 3",
   "language": "python",
   "name": "python3"
  },
  "language_info": {
   "codemirror_mode": {
    "name": "ipython",
    "version": 3
   },
   "file_extension": ".py",
   "mimetype": "text/x-python",
   "name": "python",
   "nbconvert_exporter": "python",
   "pygments_lexer": "ipython3",
   "version": "3.6.4"
  }
 },
 "nbformat": 4,
 "nbformat_minor": 2
}
